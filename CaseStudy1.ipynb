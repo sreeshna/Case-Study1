{
  "nbformat": 4,
  "nbformat_minor": 0,
  "metadata": {
    "colab": {
      "name": "CaseStudy1.ipynb",
      "provenance": [],
      "collapsed_sections": []
    },
    "kernelspec": {
      "name": "python3",
      "display_name": "Python 3"
    },
    "language_info": {
      "name": "python"
    }
  },
  "cells": [
    {
      "cell_type": "code",
      "metadata": {
        "id": "yeeyptlD_WqK"
      },
      "source": [
        "# Importing the required libraries\n",
        "import numpy as np\n",
        "import pandas as pd\n",
        "import matplotlib.pyplot as plt\n",
        "import seaborn as sns"
      ],
      "execution_count": 2,
      "outputs": []
    },
    {
      "cell_type": "code",
      "metadata": {
        "colab": {
          "base_uri": "https://localhost:8080/",
          "height": 275
        },
        "id": "2idQBCX0_qyO",
        "outputId": "aa5b7f71-c2c9-42b1-c767-c0a9a53c37ef"
      },
      "source": [
        "# Loading the CSV file into a pandas dataframe.\n",
        "df = pd.read_csv('cars_data.csv')\n",
        "df.head()"
      ],
      "execution_count": 4,
      "outputs": [
        {
          "output_type": "execute_result",
          "data": {
            "text/html": [
              "<div>\n",
              "<style scoped>\n",
              "    .dataframe tbody tr th:only-of-type {\n",
              "        vertical-align: middle;\n",
              "    }\n",
              "\n",
              "    .dataframe tbody tr th {\n",
              "        vertical-align: top;\n",
              "    }\n",
              "\n",
              "    .dataframe thead th {\n",
              "        text-align: right;\n",
              "    }\n",
              "</style>\n",
              "<table border=\"1\" class=\"dataframe\">\n",
              "  <thead>\n",
              "    <tr style=\"text-align: right;\">\n",
              "      <th></th>\n",
              "      <th>Make</th>\n",
              "      <th>Model</th>\n",
              "      <th>Nickname</th>\n",
              "      <th>Car Gender</th>\n",
              "      <th>Buyer Gender</th>\n",
              "      <th>Buyer Age</th>\n",
              "      <th>Buzzword</th>\n",
              "      <th>Country</th>\n",
              "      <th>City</th>\n",
              "      <th>Dealer Latitude</th>\n",
              "      <th>Dealer Longitude</th>\n",
              "      <th>Color</th>\n",
              "      <th>New Car</th>\n",
              "      <th>Purchase Date</th>\n",
              "      <th>Sale Price</th>\n",
              "      <th>Discount</th>\n",
              "      <th>Resell Price</th>\n",
              "      <th>5-yr Depreciation</th>\n",
              "      <th>Top Speed</th>\n",
              "      <th>0-60 Time</th>\n",
              "    </tr>\n",
              "  </thead>\n",
              "  <tbody>\n",
              "    <tr>\n",
              "      <th>0</th>\n",
              "      <td>Suzuki</td>\n",
              "      <td>Vitara</td>\n",
              "      <td>Philippine</td>\n",
              "      <td>Female</td>\n",
              "      <td>Female</td>\n",
              "      <td>51</td>\n",
              "      <td>User-friendly</td>\n",
              "      <td>Belgium</td>\n",
              "      <td>Antwerpen</td>\n",
              "      <td>51.247239</td>\n",
              "      <td>4.440346</td>\n",
              "      <td>Yellow</td>\n",
              "      <td>False</td>\n",
              "      <td>19/07/2009</td>\n",
              "      <td>54806.14</td>\n",
              "      <td>0.2467</td>\n",
              "      <td>33858.32</td>\n",
              "      <td>0.13</td>\n",
              "      <td>200.9</td>\n",
              "      <td>11.5</td>\n",
              "    </tr>\n",
              "    <tr>\n",
              "      <th>1</th>\n",
              "      <td>Honda</td>\n",
              "      <td>S2000</td>\n",
              "      <td>Henrik</td>\n",
              "      <td>Male</td>\n",
              "      <td>Male</td>\n",
              "      <td>30</td>\n",
              "      <td>analyzing</td>\n",
              "      <td>China</td>\n",
              "      <td>Jinhu</td>\n",
              "      <td>33.025433</td>\n",
              "      <td>119.020584</td>\n",
              "      <td>Crimson</td>\n",
              "      <td>False</td>\n",
              "      <td>26/10/2015</td>\n",
              "      <td>51826.30</td>\n",
              "      <td>0.3147</td>\n",
              "      <td>2989.28</td>\n",
              "      <td>0.02</td>\n",
              "      <td>158.5</td>\n",
              "      <td>8.8</td>\n",
              "    </tr>\n",
              "    <tr>\n",
              "      <th>2</th>\n",
              "      <td>BMW</td>\n",
              "      <td>Z4</td>\n",
              "      <td>Lebbie</td>\n",
              "      <td>Male</td>\n",
              "      <td>Female</td>\n",
              "      <td>54</td>\n",
              "      <td>software</td>\n",
              "      <td>China</td>\n",
              "      <td>Gemo</td>\n",
              "      <td>30.916207</td>\n",
              "      <td>121.677640</td>\n",
              "      <td>Khaki</td>\n",
              "      <td>False</td>\n",
              "      <td>28/03/2010</td>\n",
              "      <td>82929.14</td>\n",
              "      <td>0.5414</td>\n",
              "      <td>35049.16</td>\n",
              "      <td>0.24</td>\n",
              "      <td>149.5</td>\n",
              "      <td>14.4</td>\n",
              "    </tr>\n",
              "    <tr>\n",
              "      <th>3</th>\n",
              "      <td>Toyota</td>\n",
              "      <td>Tacoma</td>\n",
              "      <td>Jefferey</td>\n",
              "      <td>Female</td>\n",
              "      <td>Male</td>\n",
              "      <td>68</td>\n",
              "      <td>monitoring</td>\n",
              "      <td>Portugal</td>\n",
              "      <td>Queluz de Baixo</td>\n",
              "      <td>38.745168</td>\n",
              "      <td>-9.267087</td>\n",
              "      <td>Puce</td>\n",
              "      <td>False</td>\n",
              "      <td>07/05/2008</td>\n",
              "      <td>56928.66</td>\n",
              "      <td>0.0850</td>\n",
              "      <td>8236.15</td>\n",
              "      <td>0.20</td>\n",
              "      <td>153.3</td>\n",
              "      <td>11.5</td>\n",
              "    </tr>\n",
              "    <tr>\n",
              "      <th>4</th>\n",
              "      <td>Ford</td>\n",
              "      <td>Festiva</td>\n",
              "      <td>Glendon</td>\n",
              "      <td>Female</td>\n",
              "      <td>Male</td>\n",
              "      <td>70</td>\n",
              "      <td>Sharable</td>\n",
              "      <td>Latvia</td>\n",
              "      <td>Jaunpils</td>\n",
              "      <td>56.729980</td>\n",
              "      <td>23.016588</td>\n",
              "      <td>Yellow</td>\n",
              "      <td>False</td>\n",
              "      <td>01/06/2008</td>\n",
              "      <td>77201.26</td>\n",
              "      <td>0.1642</td>\n",
              "      <td>32765.76</td>\n",
              "      <td>0.18</td>\n",
              "      <td>122.0</td>\n",
              "      <td>14.9</td>\n",
              "    </tr>\n",
              "  </tbody>\n",
              "</table>\n",
              "</div>"
            ],
            "text/plain": [
              "     Make    Model    Nickname  ... 5-yr Depreciation Top Speed  0-60 Time\n",
              "0  Suzuki   Vitara  Philippine  ...              0.13     200.9       11.5\n",
              "1   Honda    S2000      Henrik  ...              0.02     158.5        8.8\n",
              "2     BMW       Z4      Lebbie  ...              0.24     149.5       14.4\n",
              "3  Toyota   Tacoma    Jefferey  ...              0.20     153.3       11.5\n",
              "4    Ford  Festiva     Glendon  ...              0.18     122.0       14.9\n",
              "\n",
              "[5 rows x 20 columns]"
            ]
          },
          "metadata": {},
          "execution_count": 4
        }
      ]
    },
    {
      "cell_type": "code",
      "metadata": {
        "colab": {
          "base_uri": "https://localhost:8080/"
        },
        "id": "xyEUKOgFB9mH",
        "outputId": "b34b01e6-ccf8-4ea0-8948-79f9c17c3afe"
      },
      "source": [
        "# Finding the null values\n",
        "print(df.isnull().sum())"
      ],
      "execution_count": 5,
      "outputs": [
        {
          "output_type": "stream",
          "name": "stdout",
          "text": [
            "Make                 0\n",
            "Model                0\n",
            "Nickname             0\n",
            "Car Gender           0\n",
            "Buyer Gender         0\n",
            "Buyer Age            0\n",
            "Buzzword             0\n",
            "Country              0\n",
            "City                 0\n",
            "Dealer Latitude      0\n",
            "Dealer Longitude     0\n",
            "Color                0\n",
            "New Car              0\n",
            "Purchase Date        0\n",
            "Sale Price           0\n",
            "Discount             0\n",
            "Resell Price         0\n",
            "5-yr Depreciation    0\n",
            "Top Speed            0\n",
            "0-60 Time            0\n",
            "dtype: int64\n"
          ]
        }
      ]
    },
    {
      "cell_type": "code",
      "metadata": {
        "colab": {
          "base_uri": "https://localhost:8080/",
          "height": 334
        },
        "id": "k4I1tnfeFnOL",
        "outputId": "cdf57f09-ab98-4e5d-cb3c-d9cdec27e05d"
      },
      "source": [
        "#Plot a bar graph of male vs female buyers participated in the sales\n",
        "plt.figure()\n",
        "df[\"Buyer Gender\"].value_counts().plot(kind=\"bar\")\n",
        "plt.xlabel(\"Buyer Gender\",fontsize=14)\n",
        "plt.ylabel(\"Count\",fontsize=14)\n",
        "plt.title(\"Buyers : Male v/s Female\",fontsize=24)\n",
        "plt.show()"
      ],
      "execution_count": 11,
      "outputs": [
        {
          "output_type": "display_data",
          "data": {
            "image/png": "[encoded data removed]",
            "text/plain": [
              "<Figure size 432x288 with 1 Axes>"
            ]
          },
          "metadata": {
            "needs_background": "light"
          }
        }
      ]
    },
    {
      "cell_type": "code",
      "metadata": {
        "colab": {
          "base_uri": "https://localhost:8080/",
          "height": 204
        },
        "id": "mrAjbYq4FTX6",
        "outputId": "cefdb83c-dcc2-4ab3-fe8b-7254444b933d"
      },
      "source": [
        "#Top 5 cars based on their sales price\n",
        "df.sort_values(by='Sale Price',ascending=False).iloc[0:5,0:2]\n"
      ],
      "execution_count": 10,
      "outputs": [
        {
          "output_type": "execute_result",
          "data": {
            "text/html": [
              "<div>\n",
              "<style scoped>\n",
              "    .dataframe tbody tr th:only-of-type {\n",
              "        vertical-align: middle;\n",
              "    }\n",
              "\n",
              "    .dataframe tbody tr th {\n",
              "        vertical-align: top;\n",
              "    }\n",
              "\n",
              "    .dataframe thead th {\n",
              "        text-align: right;\n",
              "    }\n",
              "</style>\n",
              "<table border=\"1\" class=\"dataframe\">\n",
              "  <thead>\n",
              "    <tr style=\"text-align: right;\">\n",
              "      <th></th>\n",
              "      <th>Make</th>\n",
              "      <th>Model</th>\n",
              "    </tr>\n",
              "  </thead>\n",
              "  <tbody>\n",
              "    <tr>\n",
              "      <th>5984</th>\n",
              "      <td>Volkswagen</td>\n",
              "      <td>Jetta III</td>\n",
              "    </tr>\n",
              "    <tr>\n",
              "      <th>1270</th>\n",
              "      <td>Audi</td>\n",
              "      <td>A6</td>\n",
              "    </tr>\n",
              "    <tr>\n",
              "      <th>3460</th>\n",
              "      <td>Lexus</td>\n",
              "      <td>LX</td>\n",
              "    </tr>\n",
              "    <tr>\n",
              "      <th>9032</th>\n",
              "      <td>Mazda</td>\n",
              "      <td>MX-6</td>\n",
              "    </tr>\n",
              "    <tr>\n",
              "      <th>302</th>\n",
              "      <td>Lexus</td>\n",
              "      <td>ES</td>\n",
              "    </tr>\n",
              "  </tbody>\n",
              "</table>\n",
              "</div>"
            ],
            "text/plain": [
              "            Make      Model\n",
              "5984  Volkswagen  Jetta III\n",
              "1270        Audi         A6\n",
              "3460       Lexus         LX\n",
              "9032       Mazda       MX-6\n",
              "302        Lexus         ES"
            ]
          },
          "metadata": {},
          "execution_count": 10
        }
      ]
    },
    {
      "cell_type": "code",
      "metadata": {
        "colab": {
          "base_uri": "https://localhost:8080/",
          "height": 204
        },
        "id": "WQMhTH9vAO_L",
        "outputId": "e33a0a02-ce8f-4220-e5d7-cc1a8900bac1"
      },
      "source": [
        "#Bottom 5 cars based on their Resell price\n",
        "df.sort_values(by='Resell Price',ascending=True).iloc[0:5,0:2]\n"
      ],
      "execution_count": 12,
      "outputs": [
        {
          "output_type": "execute_result",
          "data": {
            "text/html": [
              "<div>\n",
              "<style scoped>\n",
              "    .dataframe tbody tr th:only-of-type {\n",
              "        vertical-align: middle;\n",
              "    }\n",
              "\n",
              "    .dataframe tbody tr th {\n",
              "        vertical-align: top;\n",
              "    }\n",
              "\n",
              "    .dataframe thead th {\n",
              "        text-align: right;\n",
              "    }\n",
              "</style>\n",
              "<table border=\"1\" class=\"dataframe\">\n",
              "  <thead>\n",
              "    <tr style=\"text-align: right;\">\n",
              "      <th></th>\n",
              "      <th>Make</th>\n",
              "      <th>Model</th>\n",
              "    </tr>\n",
              "  </thead>\n",
              "  <tbody>\n",
              "    <tr>\n",
              "      <th>2446</th>\n",
              "      <td>Chevrolet</td>\n",
              "      <td>1500</td>\n",
              "    </tr>\n",
              "    <tr>\n",
              "      <th>4933</th>\n",
              "      <td>GMC</td>\n",
              "      <td>Savana 1500</td>\n",
              "    </tr>\n",
              "    <tr>\n",
              "      <th>566</th>\n",
              "      <td>Jaguar</td>\n",
              "      <td>XF</td>\n",
              "    </tr>\n",
              "    <tr>\n",
              "      <th>2538</th>\n",
              "      <td>Mitsubishi</td>\n",
              "      <td>3000GT</td>\n",
              "    </tr>\n",
              "    <tr>\n",
              "      <th>5869</th>\n",
              "      <td>Infiniti</td>\n",
              "      <td>G37</td>\n",
              "    </tr>\n",
              "  </tbody>\n",
              "</table>\n",
              "</div>"
            ],
            "text/plain": [
              "            Make        Model\n",
              "2446   Chevrolet         1500\n",
              "4933         GMC  Savana 1500\n",
              "566       Jaguar           XF\n",
              "2538  Mitsubishi       3000GT\n",
              "5869    Infiniti          G37"
            ]
          },
          "metadata": {},
          "execution_count": 12
        }
      ]
    }
  ]
}